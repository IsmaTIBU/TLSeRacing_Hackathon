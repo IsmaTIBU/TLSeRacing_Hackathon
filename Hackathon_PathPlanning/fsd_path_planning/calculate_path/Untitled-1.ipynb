{
 "cells": [
  {
   "cell_type": "markdown",
   "metadata": {},
   "source": [
    "# Control Systems Module: PID Controller\n",
    "\n",
    "In this exercise, you'll implement a PID (Proportional-Integral-Derivative) controller to make the car follow a given path. This is a fundamental control algorithm that's widely used in robotics and automation."
   ]
  },
  {
   "cell_type": "code",
   "execution_count": null,
   "metadata": {},
   "outputs": [],
   "source": [
    "class PIDController:\n",
    "    def __init__(self, Kp, Ki, Kd):\n",
    "        self.Kp = Kp\n",
    "        self.Ki = Ki\n",
    "        self.Kd = Kd\n",
    "        self.prev_error = 0\n",
    "        self.integral = 0\n",
    "\n",
    "    def compute(self, error, dt):\n",
    "        \"\"\"\n",
    "        Computes the control output.\n",
    "        \"\"\"\n",
    "        # --- Your Code Goes Here ---\n",
    "        self.integral += error * dt\n",
    "        derivative = (error - self.prev_error) / dt\n",
    "        output = self.Kp * error + self.Ki * self.integral + self.Kd * derivative\n",
    "        self.prev_error = error\n",
    "        # --- End of Your Code ---\n",
    "\n",
    "        return output\n",
    "\n",
    "# You can test your PID controller by creating a simple simulation loop\n",
    "# where you try to make a point follow a target."
   ]
  }
 ],
 "metadata": {
  "kernelspec": {
   "display_name": "Python 3",
   "language": "python",
   "name": "python3"
  },
  "language_info": {
   "codemirror_mode": {
    "name": "ipython",
    "version": 3
   },
   "file_extension": ".py",
   "mimetype": "text/x-python",
   "name": "python",
   "nbconvert_exporter": "python",
   "pygments_lexer": "ipython3",
   "version": "3.9.7"
  }
 },
 "nbformat": 4,
 "nbformat_minor": 4
}
